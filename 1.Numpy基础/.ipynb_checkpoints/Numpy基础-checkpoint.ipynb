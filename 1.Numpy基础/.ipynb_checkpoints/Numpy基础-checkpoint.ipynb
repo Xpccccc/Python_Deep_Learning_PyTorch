{
 "cells": [
  {
   "cell_type": "markdown",
   "id": "0e487f95",
   "metadata": {},
   "source": [
    "#  Numpy 基础"
   ]
  },
  {
   "cell_type": "markdown",
   "id": "86b92e42",
   "metadata": {},
   "source": [
    "## 生成Numpy 数组"
   ]
  },
  {
   "cell_type": "markdown",
   "id": "2faa8ae1",
   "metadata": {},
   "source": [
    "###  从已有的数据中创建数组"
   ]
  },
  {
   "cell_type": "code",
   "execution_count": 3,
   "id": "c1ea255e",
   "metadata": {
    "ExecuteTime": {
     "end_time": "2024-05-16T03:05:34.924063Z",
     "start_time": "2024-05-16T03:05:34.915521Z"
    }
   },
   "outputs": [
    {
     "name": "stdout",
     "output_type": "stream",
     "text": [
      "[3.14 2.17 0.   1.   2.  ]\n",
      "<class 'numpy.ndarray'>\n"
     ]
    }
   ],
   "source": [
    "import numpy as np\n",
    "\n",
    "lst1 = [3.14, 2.17, 0, 1, 2]\n",
    "nd1 = np.array(lst1)\n",
    "print(nd1)\n",
    "print(type(nd1))"
   ]
  },
  {
   "cell_type": "code",
   "execution_count": 21,
   "id": "d2d59a7f",
   "metadata": {
    "ExecuteTime": {
     "end_time": "2024-05-16T03:19:24.786925Z",
     "start_time": "2024-05-16T03:19:24.775678Z"
    }
   },
   "outputs": [
    {
     "name": "stdout",
     "output_type": "stream",
     "text": [
      "[[3.14 2.17 0.   1.   2.  ]\n",
      " [1.   2.   3.   4.   5.  ]]\n",
      "<class 'numpy.ndarray'>\n"
     ]
    }
   ],
   "source": [
    "import numpy as np\n",
    "\n",
    "lst2 = [[3.14, 2.17, 0, 1, 2],[1,2,3,4,5]]\n",
    "nd2 = np.array(lst2)\n",
    "print(nd2)\n",
    "print(type(nd2))"
   ]
  },
  {
   "cell_type": "markdown",
   "id": "f43e9584",
   "metadata": {},
   "source": [
    "###  利用 random 模块生成数组"
   ]
  },
  {
   "cell_type": "markdown",
   "id": "4b57ec8b",
   "metadata": {
    "ExecuteTime": {
     "end_time": "2024-05-16T03:19:29.104259Z",
     "start_time": "2024-05-16T03:19:29.094076Z"
    }
   },
   "source": [
    "<img src=\"https://raw.githubusercontent.com/Xpccccc/PicGo/main/data202405161114575.png\">"
   ]
  },
  {
   "cell_type": "code",
   "execution_count": 10,
   "id": "27391413",
   "metadata": {
    "ExecuteTime": {
     "end_time": "2024-05-16T03:12:20.130160Z",
     "start_time": "2024-05-16T03:12:20.120744Z"
    }
   },
   "outputs": [
    {
     "name": "stdout",
     "output_type": "stream",
     "text": [
      "[[0.10702201 0.55215444 0.44866425]\n",
      " [0.60830197 0.08425423 0.30047564]\n",
      " [0.64181151 0.5743229  0.85278865]]\n",
      "nd3的形状为： (3, 3)\n"
     ]
    }
   ],
   "source": [
    "import numpy as np\n",
    "\n",
    "nd3 = np.random.random([3,3])\n",
    "print(nd3)\n",
    "print(\"nd3的形状为：\",nd3.shape)"
   ]
  },
  {
   "cell_type": "code",
   "execution_count": 49,
   "id": "cf3e106e",
   "metadata": {
    "ExecuteTime": {
     "end_time": "2024-05-18T08:17:55.116211Z",
     "start_time": "2024-05-18T08:17:55.102289Z"
    }
   },
   "outputs": [
    {
     "name": "stdout",
     "output_type": "stream",
     "text": [
      "[[-1.0856306   0.99734545  0.2829785 ]\n",
      " [-1.50629471 -0.57860025  1.65143654]]\n",
      "随机打乱后的数据：\n",
      "[[-1.50629471 -0.57860025  1.65143654]\n",
      " [-1.0856306   0.99734545  0.2829785 ]]\n",
      "<class 'numpy.ndarray'>\n"
     ]
    }
   ],
   "source": [
    "import numpy as np\n",
    "\n",
    "np.random.seed(123)\n",
    "nd4 = np.random.randn(2,3)\n",
    "print(nd4)\n",
    "\n",
    "\n",
    "np.random.shuffle(nd4)\n",
    "print(\"随机打乱后的数据：\")\n",
    "print(nd4)\n",
    "print(type(nd4))"
   ]
  },
  {
   "cell_type": "markdown",
   "id": "2a9ad535",
   "metadata": {},
   "source": [
    "###  创建特定形状的多维数组"
   ]
  },
  {
   "cell_type": "code",
   "execution_count": 48,
   "id": "be5d633e",
   "metadata": {
    "ExecuteTime": {
     "end_time": "2024-05-17T15:27:36.143980Z",
     "start_time": "2024-05-17T15:27:36.131327Z"
    }
   },
   "outputs": [
    {
     "name": "stdout",
     "output_type": "stream",
     "text": [
      "[[0. 0. 0.]\n",
      " [0. 0. 0.]\n",
      " [0. 0. 0.]]\n",
      "[[1. 1. 1.]\n",
      " [1. 1. 1.]\n",
      " [1. 1. 1.]]\n",
      "[[1. 0. 0.]\n",
      " [0. 1. 0.]\n",
      " [0. 0. 1.]]\n",
      "[[1 0 0]\n",
      " [0 2 0]\n",
      " [0 0 3]]\n"
     ]
    }
   ],
   "source": [
    "import numpy as np\n",
    "# 生成全是 0 的 3x3 矩阵\n",
    "nd5 = np.zeros((3,3))\n",
    "print(nd5)\n",
    "# 生成和nd5形状一样的全1矩阵\n",
    "# np.ones_like(nd5)\n",
    "nd6 = np.ones([3,3])\n",
    "print(nd6)\n",
    "# 生成 3 阶的单位矩阵\n",
    "nd7 = np.eye(3)\n",
    "print(nd7)\n",
    "# 生成 3 阶对角矩阵\n",
    "nd8 = np.diag([1,2,3])\n",
    "print(nd8)"
   ]
  },
  {
   "cell_type": "code",
   "execution_count": 59,
   "id": "cf2d32ea",
   "metadata": {
    "ExecuteTime": {
     "end_time": "2024-05-17T15:35:58.597604Z",
     "start_time": "2024-05-17T15:35:58.581076Z"
    }
   },
   "outputs": [
    {
     "name": "stdout",
     "output_type": "stream",
     "text": [
      "[[0.04093414 0.30051671 0.40939041 0.37251939 0.33997017]\n",
      " [0.81257008 0.52820553 0.55382711 0.11720684 0.78460482]\n",
      " [0.43458619 0.07722273 0.18181153 0.52101088 0.47933417]\n",
      " [0.31354249 0.09966921 0.59655266 0.24816989 0.60434016]\n",
      " [0.30511365 0.89730494 0.58201533 0.71249243 0.68361547]]\n"
     ]
    }
   ],
   "source": [
    "# 把生成的数据保存下来\n",
    "import numpy as np\n",
    "\n",
    "nd9 = np.random.random([5,5])\n",
    "np.savetxt(X=nd9, fname='./test1.txt')\n",
    "nd10 = np.loadtxt('./test1.txt')\n",
    "print(nd10)"
   ]
  },
  {
   "cell_type": "markdown",
   "id": "af4dfa7c",
   "metadata": {},
   "source": [
    "###  利用 arrange、linspace 函数生成数组"
   ]
  },
  {
   "cell_type": "code",
   "execution_count": 6,
   "id": "67742f60",
   "metadata": {
    "ExecuteTime": {
     "end_time": "2024-05-18T07:33:01.725437Z",
     "start_time": "2024-05-18T07:33:01.711548Z"
    }
   },
   "outputs": [
    {
     "name": "stdout",
     "output_type": "stream",
     "text": [
      "[0 1 2 3 4 5 6 7 8 9]\n",
      "[0 1 2 3 4 5 6 7 8 9]\n",
      "[1.  1.5 2.  2.5 3.  3.5]\n",
      "[9 8 7 6 5 4 3 2 1 0]\n"
     ]
    }
   ],
   "source": [
    "import numpy as np\n",
    "\n",
    "print(np.arange(10))\n",
    "print(np.arange(0,10))\n",
    "print(np.arange(1,4,0.5))\n",
    "print(np.arange(9,-1,-1))"
   ]
  },
  {
   "cell_type": "code",
   "execution_count": 16,
   "id": "b39e60a8",
   "metadata": {
    "ExecuteTime": {
     "end_time": "2024-05-18T07:39:53.112874Z",
     "start_time": "2024-05-18T07:39:53.099261Z"
    }
   },
   "outputs": [
    {
     "name": "stdout",
     "output_type": "stream",
     "text": [
      "[0.         0.11111111 0.22222222 0.33333333 0.44444444 0.55555556\n",
      " 0.66666667 0.77777778 0.88888889 1.        ]\n",
      "[ 1.          1.29154967  1.66810054  2.15443469  2.7825594   3.59381366\n",
      "  4.64158883  5.9948425   7.74263683 10.        ]\n"
     ]
    }
   ],
   "source": [
    "import numpy as np\n",
    "\n",
    "print(np.linspace(0,1,10))\n",
    "print(np.logspace(0,1,10))"
   ]
  },
  {
   "cell_type": "markdown",
   "id": "81b946e1",
   "metadata": {},
   "source": [
    "## 获取元素"
   ]
  },
  {
   "cell_type": "code",
   "execution_count": 35,
   "id": "b521dde6",
   "metadata": {
    "ExecuteTime": {
     "end_time": "2024-05-18T07:58:01.644167Z",
     "start_time": "2024-05-18T07:58:01.624473Z"
    }
   },
   "outputs": [
    {
     "name": "stdout",
     "output_type": "stream",
     "text": [
      "[0.58801452 0.69910875 0.18815196 0.04380856 0.20501895 0.10606287\n",
      " 0.72724014 0.67940052 0.4738457  0.44829582]\n",
      "[[ 0  1  2  3  4]\n",
      " [ 5  6  7  8  9]\n",
      " [10 11 12 13 14]\n",
      " [15 16 17 18 19]\n",
      " [20 21 22 23 24]]\n"
     ]
    },
    {
     "data": {
      "text/plain": [
       "array([[ 1,  2],\n",
       "       [ 6,  7],\n",
       "       [11, 12],\n",
       "       [16, 17],\n",
       "       [21, 22]])"
      ]
     },
     "execution_count": 35,
     "metadata": {},
     "output_type": "execute_result"
    }
   ],
   "source": [
    "import numpy as np\n",
    "\n",
    "np.random.seed(2024)\n",
    "nd11 = np.random.random([10])\n",
    "print(nd11)\n",
    "# 获取第4个位置的元素\n",
    "nd11[3]\n",
    "# 截取一段数据\n",
    "nd11[3:6] # 范围[1,6)\n",
    "# 截取固定间隔数据\n",
    "nd11[1:6:2] # 范围[1,6) 间隔为2\n",
    "# 倒序取数\n",
    "nd11[::-2] # 范围[0,10) 间隔为2 ，反过来\n",
    "# 截取一个多维数组的一个区域内的数据\n",
    "nd12 = np.arange(25).reshape([5,5])\n",
    "print(nd12)\n",
    "nd12[1:3,1:3]\n",
    "# 截取多维数组中，数值在一个值域内的的数据\n",
    "nd12[(nd12>3)&(nd12<10)]\n",
    "# 截取多维数组中，指定的行，如读取第2，3行\n",
    "nd12[[1,2]] # 或nd12[1:3,:]\n",
    "# 截取多维数组中，指定的列，如读取第2，3列\n",
    "nd12[:,1:3] # 这个前面的:不能省略"
   ]
  },
  {
   "cell_type": "code",
   "execution_count": 42,
   "id": "3ebc034e",
   "metadata": {
    "ExecuteTime": {
     "end_time": "2024-05-18T08:08:00.978588Z",
     "start_time": "2024-05-18T08:08:00.956186Z"
    }
   },
   "outputs": [
    {
     "name": "stdout",
     "output_type": "stream",
     "text": [
      "随机可重复抽取\n",
      "[[24. 19. 23.  7.]\n",
      " [24. 18. 14. 21.]\n",
      " [ 6.  1. 14. 19.]]\n",
      "随机但不可重复抽取\n",
      "[[ 6. 17.  5. 24.]\n",
      " [13. 14. 16. 12.]\n",
      " [23. 15. 21.  2.]]\n",
      "随机但按指定概率抽取\n",
      "[[12. 24. 13. 16.]\n",
      " [14. 24. 12. 10.]\n",
      " [17. 23. 23. 11.]]\n"
     ]
    }
   ],
   "source": [
    "import numpy as np\n",
    "from numpy import random as nr\n",
    "\n",
    "a = np.arange(1,25,dtype=float)\n",
    "c1 = nr.choice(a,size=(3,4)) # size指定输出形状\n",
    "c2 = nr.choice(a,size=(3,4),replace=False) # replece缺省为True，即可重复抽取\n",
    "# 下式中参数p指定每个元素对应的抽取概率，缺省为每个元素被抽取的概率相同\n",
    "c3 = nr.choice(a,size=(3,4),p=a/np.sum(a))\n",
    "print(\"随机可重复抽取\")\n",
    "print(c1)\n",
    "print(\"随机但不可重复抽取\")\n",
    "print(c2)\n",
    "print(\"随机但按指定概率抽取\")\n",
    "print(c3)"
   ]
  },
  {
   "cell_type": "markdown",
   "id": "9ee16619",
   "metadata": {},
   "source": [
    "## Numpy 的算数运算"
   ]
  },
  {
   "cell_type": "markdown",
   "id": "7230326a",
   "metadata": {},
   "source": [
    "### 对应元素相乘"
   ]
  },
  {
   "cell_type": "code",
   "execution_count": 54,
   "id": "2d7857ef",
   "metadata": {
    "ExecuteTime": {
     "end_time": "2024-05-18T08:24:12.808254Z",
     "start_time": "2024-05-18T08:24:12.792397Z"
    }
   },
   "outputs": [
    {
     "name": "stdout",
     "output_type": "stream",
     "text": [
      "[[ 2.  4.]\n",
      " [-2.  8.]]\n",
      "[[ 0.5  1. ]\n",
      " [-0.5  2. ]]\n",
      "输出参数X的形状： (2, 3)\n",
      "输出激活函数softmoid的形状： (2, 3)\n",
      "输出激活函数relu的形状： (2, 3)\n",
      "输出激活函数softmax的形状： (2, 3)\n"
     ]
    }
   ],
   "source": [
    "import numpy as np\n",
    "\n",
    "A = np.array([[1,2],[-1,4]])\n",
    "B = np.array([[2,0],[3,4]])\n",
    "A*B\n",
    "np.multiply(A,B)\n",
    "print(A*2.0)\n",
    "print(A/2.0)\n",
    "\n",
    "\n",
    "X = np.random.rand(2,3)\n",
    "def softmoid(x):\n",
    "    return 1/(1+np.exp(-x))\n",
    "def relu(x):\n",
    "    return np.maximum(0,x);\n",
    "def softmax(x):\n",
    "    return np.exp(x)/np.sum(np.exp(x))\n",
    "\n",
    "print(\"输出参数X的形状：\",X.shape)\n",
    "print(\"输出激活函数softmoid的形状：\",softmoid(X).shape)\n",
    "print(\"输出激活函数relu的形状：\",relu(X).shape)\n",
    "print(\"输出激活函数softmax的形状：\",softmax(X).shape)"
   ]
  },
  {
   "cell_type": "markdown",
   "id": "d1859e15",
   "metadata": {},
   "source": [
    "### 点积运算"
   ]
  },
  {
   "cell_type": "code",
   "execution_count": 56,
   "id": "9eac765d",
   "metadata": {
    "ExecuteTime": {
     "end_time": "2024-05-18T08:26:46.060853Z",
     "start_time": "2024-05-18T08:26:46.053780Z"
    }
   },
   "outputs": [
    {
     "name": "stdout",
     "output_type": "stream",
     "text": [
      "[[21 24 27]\n",
      " [47 54 61]]\n"
     ]
    }
   ],
   "source": [
    "import numpy as np\n",
    "\n",
    "X1 = np.array([[1,2],[3,4]])\n",
    "X2 = np.array([[5,6,7],[8,9,10]])\n",
    "X3 = np.dot(X1,X2)\n",
    "print(X3)"
   ]
  },
  {
   "cell_type": "markdown",
   "id": "3f021ef8",
   "metadata": {},
   "source": [
    "## 数组变形"
   ]
  },
  {
   "cell_type": "markdown",
   "id": "d8ce691b",
   "metadata": {},
   "source": [
    "### 更改数组的形状"
   ]
  },
  {
   "cell_type": "code",
   "execution_count": 63,
   "id": "86dfdbfd",
   "metadata": {
    "ExecuteTime": {
     "end_time": "2024-05-18T08:35:21.057080Z",
     "start_time": "2024-05-18T08:35:21.047997Z"
    }
   },
   "outputs": [
    {
     "name": "stdout",
     "output_type": "stream",
     "text": [
      "[0 1 2 3 4 5 6 7 8 9]\n",
      "[[0 1 2 3 4]\n",
      " [5 6 7 8 9]]\n",
      "[[0 1]\n",
      " [2 3]\n",
      " [4 5]\n",
      " [6 7]\n",
      " [8 9]]\n",
      "[[0 1 2 3 4]\n",
      " [5 6 7 8 9]]\n"
     ]
    }
   ],
   "source": [
    "# 1.reshape\n",
    "\n",
    "import numpy as np\n",
    "\n",
    "arr = np.arange(10)\n",
    "print(arr)\n",
    "# 将向量 arr 的维度变为2行5列\n",
    "print(arr.reshape(2,5))\n",
    "# 指定维度时可以只指定行数或者列数，其他用 -1 代替\n",
    "print(arr.reshape(5,-1))\n",
    "print(arr.reshape(-1,5))"
   ]
  },
  {
   "cell_type": "code",
   "execution_count": 66,
   "id": "1a47e17e",
   "metadata": {
    "ExecuteTime": {
     "end_time": "2024-05-18T08:36:45.051579Z",
     "start_time": "2024-05-18T08:36:45.044931Z"
    }
   },
   "outputs": [
    {
     "name": "stdout",
     "output_type": "stream",
     "text": [
      "[0 1 2 3 4 5 6 7 8 9]\n",
      "[[0 1 2 3 4]\n",
      " [5 6 7 8 9]]\n"
     ]
    }
   ],
   "source": [
    "# 2.resize\n",
    "\n",
    "import numpy as np\n",
    "\n",
    "arr = np.arange(10)\n",
    "print(arr)\n",
    "# 将向量 arr 的维度变为2行5列\n",
    "arr.resize(2,5)\n",
    "print(arr)"
   ]
  },
  {
   "cell_type": "code",
   "execution_count": 67,
   "id": "550ca275",
   "metadata": {
    "ExecuteTime": {
     "end_time": "2024-05-18T08:38:51.948612Z",
     "start_time": "2024-05-18T08:38:51.939721Z"
    }
   },
   "outputs": [
    {
     "name": "stdout",
     "output_type": "stream",
     "text": [
      "[[ 0  1  2  3]\n",
      " [ 4  5  6  7]\n",
      " [ 8  9 10 11]]\n",
      "[[ 0  4  8]\n",
      " [ 1  5  9]\n",
      " [ 2  6 10]\n",
      " [ 3  7 11]]\n"
     ]
    }
   ],
   "source": [
    "# 3.T\n",
    "\n",
    "import numpy as np\n",
    "arr = np.arange(12).reshape(3,4)\n",
    "# 向量 arr 为3行4列\n",
    "print(arr)\n",
    "# 将向量 arr 进行转置为4行3列\n",
    "print(arr.T)"
   ]
  },
  {
   "cell_type": "code",
   "execution_count": 74,
   "id": "e81f94d0",
   "metadata": {
    "ExecuteTime": {
     "end_time": "2024-05-18T08:43:35.997918Z",
     "start_time": "2024-05-18T08:43:35.980996Z"
    }
   },
   "outputs": [
    {
     "name": "stdout",
     "output_type": "stream",
     "text": [
      "[[0 1 2]\n",
      " [3 4 5]]\n",
      "按照列优先，展平\n",
      "[0 3 1 4 2 5]\n",
      "按照行优先，展平\n",
      "[0 1 2 3 4 5]\n"
     ]
    }
   ],
   "source": [
    "# 4.ravel\n",
    "\n",
    "import numpy as np\n",
    "\n",
    "arr = np.arange(6).reshape(2,-1)\n",
    "print(arr)\n",
    "# 按照列优先，展平\n",
    "print(\"按照列优先，展平\")\n",
    "print(arr.ravel('F'))\n",
    "# 按照行优先，展平\n",
    "print(\"按照行优先，展平\")\n",
    "print(arr.ravel())"
   ]
  },
  {
   "cell_type": "code",
   "execution_count": 83,
   "id": "2de7c31c",
   "metadata": {
    "ExecuteTime": {
     "end_time": "2024-05-18T08:47:17.693270Z",
     "start_time": "2024-05-18T08:47:17.682322Z"
    }
   },
   "outputs": [
    {
     "name": "stdout",
     "output_type": "stream",
     "text": [
      "[[4. 5. 5. 3.]\n",
      " [9. 6. 3. 5.]\n",
      " [4. 2. 2. 5.]]\n",
      "按照列优先，展平\n",
      "[4. 9. 4. 5. 6. 2. 5. 3. 2. 3. 5. 5.]\n",
      "按照行优先，展平\n",
      "[4. 5. 5. 3. 9. 6. 3. 5. 4. 2. 2. 5.]\n"
     ]
    }
   ],
   "source": [
    "# 5.flatten\n",
    "\n",
    "import numpy as np\n",
    "\n",
    "a = numpy.floor(10*np.random.random((3,4)))\n",
    "print(a)\n",
    "# 按照列优先，展平\n",
    "print(\"按照列优先，展平\")\n",
    "print(a.flatten('F'))\n",
    "# 按照行优先，展平\n",
    "print(\"按照行优先，展平\")\n",
    "print(a.flatten())"
   ]
  },
  {
   "cell_type": "code",
   "execution_count": 88,
   "id": "c91b540a",
   "metadata": {
    "ExecuteTime": {
     "end_time": "2024-05-18T08:50:57.706997Z",
     "start_time": "2024-05-18T08:50:57.691606Z"
    }
   },
   "outputs": [
    {
     "name": "stdout",
     "output_type": "stream",
     "text": [
      "(3, 1)\n",
      "(3,)\n",
      "(3, 1, 2, 1)\n",
      "(3, 2)\n"
     ]
    }
   ],
   "source": [
    "# 6.squeeze\n",
    "\n",
    "import numpy as np\n",
    "\n",
    "arr = np.arange(3).reshape(3,1)\n",
    "print(arr.shape)\n",
    "print(arr.squeeze().shape)\n",
    "arr1 = np.arange(6).reshape(3,1,2,1)\n",
    "print(arr1.shape)\n",
    "print(arr1.squeeze().shape)"
   ]
  },
  {
   "cell_type": "code",
   "execution_count": 90,
   "id": "664b66d5",
   "metadata": {
    "ExecuteTime": {
     "end_time": "2024-05-18T08:52:49.647030Z",
     "start_time": "2024-05-18T08:52:49.636353Z"
    }
   },
   "outputs": [
    {
     "name": "stdout",
     "output_type": "stream",
     "text": [
      "(2, 3, 4)\n",
      "(3, 4, 2)\n"
     ]
    }
   ],
   "source": [
    "# 7.transpose\n",
    "\n",
    "import numpy as np\n",
    "\n",
    "arr2 = np.arange(24).reshape(2,3,4)\n",
    "print(arr2.shape)\n",
    "print(arr2.transpose(1,2,0).shape)"
   ]
  },
  {
   "cell_type": "markdown",
   "id": "159a6639",
   "metadata": {},
   "source": [
    "### 合并数组"
   ]
  },
  {
   "cell_type": "code",
   "execution_count": 93,
   "id": "31c60e58",
   "metadata": {
    "ExecuteTime": {
     "end_time": "2024-05-18T09:02:37.633334Z",
     "start_time": "2024-05-18T09:02:37.623234Z"
    }
   },
   "outputs": [
    {
     "name": "stdout",
     "output_type": "stream",
     "text": [
      "[1 2 3 4 5 6 7]\n"
     ]
    }
   ],
   "source": [
    "# 1.append\n",
    "\n",
    "import numpy as np\n",
    "\n",
    "a = np.array([1,2,3])\n",
    "b = np.array([4,5,6,7])\n",
    "\n",
    "c = np.append(a,b)\n",
    "print(c)"
   ]
  },
  {
   "cell_type": "code",
   "execution_count": 102,
   "id": "fe065136",
   "metadata": {
    "ExecuteTime": {
     "end_time": "2024-05-18T09:08:44.086663Z",
     "start_time": "2024-05-18T09:08:44.074404Z"
    }
   },
   "outputs": [
    {
     "name": "stdout",
     "output_type": "stream",
     "text": [
      "按行合并后的结果\n",
      "[[0 1]\n",
      " [0 1]\n",
      " [2 3]]\n",
      "合并后数据维度 (3, 2)\n",
      "按列合并后的结果\n",
      "[[0 1 0 1 2]\n",
      " [2 3 3 4 5]]\n",
      "合并后数据维度 (2, 5)\n"
     ]
    }
   ],
   "source": [
    "import numpy as np\n",
    "\n",
    "a = np.arange(2).reshape(1,2)\n",
    "b = np.arange(4).reshape(2,2)\n",
    "# 按行合并 -- 列数得相等\n",
    "c = np.append(a,b,axis=0)\n",
    "print(\"按行合并后的结果\")\n",
    "print(c)\n",
    "print(\"合并后数据维度\",c.shape)\n",
    "\n",
    "d = np.arange(4).reshape(2,2)\n",
    "e = np.arange(6).reshape(2,3)\n",
    "# 按列合并 -- 行数得相等\n",
    "f = np.append(d,e,axis=1)\n",
    "print(\"按列合并后的结果\")\n",
    "print(f)\n",
    "print(\"合并后数据维度\",f.shape)"
   ]
  },
  {
   "cell_type": "code",
   "execution_count": 122,
   "id": "330e250c",
   "metadata": {
    "ExecuteTime": {
     "end_time": "2024-05-18T09:20:50.186226Z",
     "start_time": "2024-05-18T09:20:50.173621Z"
    }
   },
   "outputs": [
    {
     "name": "stdout",
     "output_type": "stream",
     "text": [
      "[[1 2]\n",
      " [3 4]\n",
      " [5 6]]\n",
      "[[1 2 5]\n",
      " [3 4 6]]\n"
     ]
    }
   ],
   "source": [
    "# 2.concatenate\n",
    "\n",
    "import numpy as np\n",
    "\n",
    "a = np.array([[1,2],[3,4]])\n",
    "b = np.array([[5,6]])\n",
    "c = np.concatenate((a,b),axis=0)\n",
    "print(c)\n",
    "d = np.concatenate((a,b.T),axis=1)\n",
    "print(d)"
   ]
  },
  {
   "cell_type": "code",
   "execution_count": 130,
   "id": "63c6462c",
   "metadata": {
    "ExecuteTime": {
     "end_time": "2024-05-18T09:25:10.381517Z",
     "start_time": "2024-05-18T09:25:10.369316Z"
    }
   },
   "outputs": [
    {
     "name": "stdout",
     "output_type": "stream",
     "text": [
      "[[[1 2]\n",
      "  [3 4]]\n",
      "\n",
      " [[5 6]\n",
      "  [7 8]]]\n",
      "-----------\n",
      "[[[1 2]\n",
      "  [5 6]]\n",
      "\n",
      " [[3 4]\n",
      "  [7 8]]]\n"
     ]
    }
   ],
   "source": [
    "# 3.stack\n",
    "\n",
    "import numpy as np\n",
    "\n",
    "a = np.array([[1,2],[3,4]])\n",
    "b = np.array(([5,6],[7,8]))\n",
    "print(np.stack((a,b),axis=0))\n",
    "print(\"-----------\")\n",
    "print(np.stack((a,b),axis=1))"
   ]
  },
  {
   "cell_type": "markdown",
   "id": "5e81b30d",
   "metadata": {},
   "source": [
    "## 批量处理"
   ]
  },
  {
   "cell_type": "code",
   "execution_count": 14,
   "id": "4e1238f6",
   "metadata": {
    "ExecuteTime": {
     "end_time": "2024-05-18T15:03:45.541489Z",
     "start_time": "2024-05-18T15:03:45.514530Z"
    }
   },
   "outputs": [
    {
     "name": "stdout",
     "output_type": "stream",
     "text": [
      "(10000, 2, 3)\n",
      "10000\n",
      "第0批次，该批次的数据之和:3.2123163870887987\n",
      "第100批次，该批次的数据之和:-21.734186059748126\n",
      "第200批次，该批次的数据之和:16.947835527320915\n",
      "第300批次，该批次的数据之和:39.51714320871406\n",
      "第400批次，该批次的数据之和:-4.098958514300538\n",
      "第500批次，该批次的数据之和:19.7088368401907\n",
      "第600批次，该批次的数据之和:37.57612650083716\n",
      "第700批次，该批次的数据之和:-10.098345898134944\n",
      "第800批次，该批次的数据之和:30.44954664018074\n",
      "第900批次，该批次的数据之和:23.916642246293577\n",
      "第1000批次，该批次的数据之和:-40.82070138939913\n",
      "第1100批次，该批次的数据之和:18.09256286820347\n",
      "第1200批次，该批次的数据之和:-36.8950105433521\n",
      "第1300批次，该批次的数据之和:-11.989159083772485\n",
      "第1400批次，该批次的数据之和:7.065049422458907\n",
      "第1500批次，该批次的数据之和:41.85876753127599\n",
      "第1600批次，该批次的数据之和:2.050577867600296\n",
      "第1700批次，该批次的数据之和:-4.208916265005761\n",
      "第1800批次，该批次的数据之和:6.587406339720618\n",
      "第1900批次，该批次的数据之和:-12.367854933040775\n",
      "第2000批次，该批次的数据之和:-1.334878054032684\n",
      "第2100批次，该批次的数据之和:31.559036787402636\n",
      "第2200批次，该批次的数据之和:4.63810580902453\n",
      "第2300批次，该批次的数据之和:-27.800979828446152\n",
      "第2400批次，该批次的数据之和:12.29767534039894\n",
      "第2500批次，该批次的数据之和:-3.381761946275436\n",
      "第2600批次，该批次的数据之和:10.457089810006963\n",
      "第2700批次，该批次的数据之和:21.008734884882912\n",
      "第2800批次，该批次的数据之和:-10.207414951733476\n",
      "第2900批次，该批次的数据之和:-20.51820041557695\n",
      "第3000批次，该批次的数据之和:-54.76310330421565\n",
      "第3100批次，该批次的数据之和:-28.200030194410598\n",
      "第3200批次，该批次的数据之和:31.18727218287639\n",
      "第3300批次，该批次的数据之和:15.190121308332245\n",
      "第3400批次，该批次的数据之和:-1.7973313110436635\n",
      "第3500批次，该批次的数据之和:-6.603247030159232\n",
      "第3600批次，该批次的数据之和:-10.554392964185897\n",
      "第3700批次，该批次的数据之和:10.197901285311598\n",
      "第3800批次，该批次的数据之和:35.26634192387143\n",
      "第3900批次，该批次的数据之和:-26.050995945074103\n",
      "第4000批次，该批次的数据之和:19.22702438470514\n",
      "第4100批次，该批次的数据之和:10.130884454955337\n",
      "第4200批次，该批次的数据之和:20.0132167741307\n",
      "第4300批次，该批次的数据之和:12.803885099895838\n",
      "第4400批次，该批次的数据之和:-9.62349253001874\n",
      "第4500批次，该批次的数据之和:14.459808131383479\n",
      "第4600批次，该批次的数据之和:-3.688962371205073\n",
      "第4700批次，该批次的数据之和:6.419721987841253\n",
      "第4800批次，该批次的数据之和:8.058954225493979\n",
      "第4900批次，该批次的数据之和:6.95678971488686\n",
      "第5000批次，该批次的数据之和:0.3165104428186414\n",
      "第5100批次，该批次的数据之和:-3.637495596042866\n",
      "第5200批次，该批次的数据之和:-27.365426894060207\n",
      "第5300批次，该批次的数据之和:-7.100459419484512\n",
      "第5400批次，该批次的数据之和:-4.430166845009275\n",
      "第5500批次，该批次的数据之和:47.15462540526623\n",
      "第5600批次，该批次的数据之和:-52.69147147019203\n",
      "第5700批次，该批次的数据之和:51.68102585017142\n",
      "第5800批次，该批次的数据之和:-13.448860138880613\n",
      "第5900批次，该批次的数据之和:1.5826035575644468\n",
      "第6000批次，该批次的数据之和:-0.12186371051854294\n",
      "第6100批次，该批次的数据之和:-20.552350890593658\n",
      "第6200批次，该批次的数据之和:-9.909949542470684\n",
      "第6300批次，该批次的数据之和:-29.38501391521753\n",
      "第6400批次，该批次的数据之和:13.859933156929518\n",
      "第6500批次，该批次的数据之和:-17.17948388647164\n",
      "第6600批次，该批次的数据之和:-6.398972819240639\n",
      "第6700批次，该批次的数据之和:-7.419774530975859\n",
      "第6800批次，该批次的数据之和:-6.9451406447135025\n",
      "第6900批次，该批次的数据之和:-28.951943477011945\n",
      "第7000批次，该批次的数据之和:32.86092881684704\n",
      "第7100批次，该批次的数据之和:-41.682416471772726\n",
      "第7200批次，该批次的数据之和:38.45498198797757\n",
      "第7300批次，该批次的数据之和:-27.738144227046735\n",
      "第7400批次，该批次的数据之和:-56.083614893778964\n",
      "第7500批次，该批次的数据之和:29.93080503421958\n",
      "第7600批次，该批次的数据之和:49.835194370184794\n",
      "第7700批次，该批次的数据之和:-37.32689188991803\n",
      "第7800批次，该批次的数据之和:-10.713271785037271\n",
      "第7900批次，该批次的数据之和:46.713234638763254\n",
      "第8000批次，该批次的数据之和:-49.406651016751795\n",
      "第8100批次，该批次的数据之和:-43.418097182676604\n",
      "第8200批次，该批次的数据之和:-38.3452535130991\n",
      "第8300批次，该批次的数据之和:-1.6338058467574328\n",
      "第8400批次，该批次的数据之和:1.7678203079441772\n",
      "第8500批次，该批次的数据之和:-30.266526583056773\n",
      "第8600批次，该批次的数据之和:-40.076750810785484\n",
      "第8700批次，该批次的数据之和:0.01815335329999157\n",
      "第8800批次，该批次的数据之和:-20.26171725748067\n",
      "第8900批次，该批次的数据之和:1.6630464782089476\n",
      "第9000批次，该批次的数据之和:-6.70163648386557\n",
      "第9100批次，该批次的数据之和:-67.22480070818914\n",
      "第9200批次，该批次的数据之和:-22.533778985048563\n",
      "第9300批次，该批次的数据之和:-23.962922894249864\n",
      "第9400批次，该批次的数据之和:-13.915183617207747\n",
      "第9500批次，该批次的数据之和:-53.87673152225368\n",
      "第9600批次，该批次的数据之和:-33.151362172884674\n",
      "第9700批次，该批次的数据之和:-21.308103413632615\n",
      "第9800批次，该批次的数据之和:19.60192087209216\n",
      "第9900批次，该批次的数据之和:47.325448734158215\n"
     ]
    }
   ],
   "source": [
    "import numpy as np\n",
    "\n",
    "# 生成10000个形状为2x3的矩阵\n",
    "data_train = np.random.randn(10000,2,3)\n",
    "# 这是一个3维矩阵，第一个维度为样本数，后两个是数据形状\n",
    "print(data_train.shape)\n",
    "# 打乱这10000个数据\n",
    "np.random.shuffle(data_train)\n",
    "# 定义批量大小\n",
    "batch_size = 100\n",
    "print(len(data_train))\n",
    "# 进行批处理\n",
    "for i in range(0,len(data_train),batch_size):\n",
    "    x_batch_sum = np.sum(data_train[i:i+batch_size])\n",
    "    print(\"第{}批次，该批次的数据之和:{}\".format(i,x_batch_sum))"
   ]
  },
  {
   "cell_type": "markdown",
   "id": "57ff4ee4",
   "metadata": {},
   "source": [
    "## 通用函数"
   ]
  },
  {
   "cell_type": "code",
   "execution_count": 32,
   "id": "5a171f69",
   "metadata": {
    "ExecuteTime": {
     "end_time": "2024-05-18T15:26:04.096857Z",
     "start_time": "2024-05-18T15:26:02.567384Z"
    }
   },
   "outputs": [
    {
     "name": "stdout",
     "output_type": "stream",
     "text": [
      "1000000\n",
      "0.001\n",
      "math.sin: 0.09319210052490234\n",
      "numpy.sin: 0.003838777542114258\n"
     ]
    }
   ],
   "source": [
    "# 1.math 与 numpy 函数的性能比较\n",
    "\n",
    "import time\n",
    "import math\n",
    "import numpy as np\n",
    "\n",
    "x = [i * 0.001 for i in np.arange(1000000)] # 生成1000000个数，从0到1000000，步长0.001\n",
    "print(len(x))\n",
    "print(x[1])\n",
    "start = time.time()\n",
    "# 使用 enumerate 函数遍历列表 x。enumerate 会同时返回列表中每个元素的索引 i 和元素的值 t。\n",
    "# 在这个循环中，i 是当前元素的索引，而 t 是当前元素的值\n",
    "for i,t in enumerate(x):\n",
    "    x[i] = math.sin(t)\n",
    "print(\"math.sin:\",time.time() - start)\n",
    "\n",
    "x = [i * 0.001 for i in np.arange(1000000)]\n",
    "x = np.array(x)\n",
    "start = time.time()\n",
    "np.sin(x)\n",
    "print(\"numpy.sin:\",time.time() - start)"
   ]
  },
  {
   "cell_type": "code",
   "execution_count": 41,
   "id": "259564c4",
   "metadata": {
    "ExecuteTime": {
     "end_time": "2024-05-18T15:59:27.821262Z",
     "start_time": "2024-05-18T15:59:27.603248Z"
    }
   },
   "outputs": [
    {
     "name": "stdout",
     "output_type": "stream",
     "text": [
      "dot = 249606.2688148365\n",
      " for loop ----- Computation time = 187.34800000000007ms\n",
      "dot = 249606.26881483174\n",
      " vector version ----- Computation time = 1.0639999999995098ms\n"
     ]
    }
   ],
   "source": [
    "# 2.循环与向量运算比较\n",
    "\n",
    "import time\n",
    "import numpy as np\n",
    "\n",
    "x1 = np.random.rand(1000000)\n",
    "x2 = np.random.rand(1000000)\n",
    "# 使用循环计算点积\n",
    "tic = time.process_time()\n",
    "dot = 0\n",
    "# x1，x2都是一维的直接对应的位置相乘\n",
    "for i in range(len(x1)):\n",
    "    dot += x1[i]*x2[i]\n",
    "toc = time.process_time()\n",
    "print(\"dot = \" + str(dot) + \"\\n for loop ----- Computation time = \" + str(1000*(toc - tic)) + \"ms\")\n",
    "# 使用 numpy 函数求点积\n",
    "tic = time.process_time()\n",
    "dot = 0\n",
    "# x1，x2都是一维的直接对应的位置相乘\n",
    "dot = np.dot(x1,x2)\n",
    "toc = time.process_time()\n",
    "print(\"dot = \" + str(dot) + \"\\n vector version ----- Computation time = \" + str(1000*(toc - tic)) + \"ms\")"
   ]
  },
  {
   "cell_type": "markdown",
   "id": "6ebda8ff",
   "metadata": {},
   "source": [
    "## 广播机制"
   ]
  },
  {
   "cell_type": "code",
   "execution_count": 1,
   "id": "e720cda2",
   "metadata": {
    "ExecuteTime": {
     "end_time": "2024-05-19T11:20:01.051003Z",
     "start_time": "2024-05-19T11:20:00.868521Z"
    }
   },
   "outputs": [
    {
     "name": "stdout",
     "output_type": "stream",
     "text": [
      "A矩阵的形状:(4, 1),B矩阵的形状:(3,)\n",
      "C矩阵的形状:(4, 3)\n",
      "[[ 0  1  2]\n",
      " [10 11 12]\n",
      " [20 21 22]\n",
      " [30 31 32]]\n"
     ]
    }
   ],
   "source": [
    "import numpy as np\n",
    "\n",
    "A = np.arange(0,40,10).reshape(4,1)\n",
    "B = np.arange(0,3)\n",
    "print(\"A矩阵的形状:{},B矩阵的形状:{}\".format(A.shape,B.shape))\n",
    "C = A+B\n",
    "print(\"C矩阵的形状:{}\".format(C.shape))\n",
    "print(C)"
   ]
  }
 ],
 "metadata": {
  "kernelspec": {
   "display_name": "Python 3 (ipykernel)",
   "language": "python",
   "name": "python3"
  },
  "language_info": {
   "codemirror_mode": {
    "name": "ipython",
    "version": 3
   },
   "file_extension": ".py",
   "mimetype": "text/x-python",
   "name": "python",
   "nbconvert_exporter": "python",
   "pygments_lexer": "ipython3",
   "version": "3.11.4"
  },
  "toc": {
   "base_numbering": 1,
   "nav_menu": {
    "height": "187px",
    "width": "385px"
   },
   "number_sections": true,
   "sideBar": true,
   "skip_h1_title": false,
   "title_cell": "Table of Contents",
   "title_sidebar": "Contents",
   "toc_cell": false,
   "toc_position": {},
   "toc_section_display": true,
   "toc_window_display": false
  }
 },
 "nbformat": 4,
 "nbformat_minor": 5
}

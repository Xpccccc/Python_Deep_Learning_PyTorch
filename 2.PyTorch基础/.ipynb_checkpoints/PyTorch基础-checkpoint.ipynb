{
 "cells": [
  {
   "cell_type": "markdown",
   "id": "bbc8c864",
   "metadata": {},
   "source": [
    "# PyTorch 基础"
   ]
  },
  {
   "cell_type": "markdown",
   "id": "6f2e543d",
   "metadata": {},
   "source": [
    "## 安装配置"
   ]
  },
  {
   "cell_type": "markdown",
   "id": "0b266233",
   "metadata": {},
   "source": [
    "### Numpy 和 Tensor"
   ]
  },
  {
   "cell_type": "markdown",
   "id": "9394a99b",
   "metadata": {},
   "source": [
    "Tensor 自称为神经网络界的 Numpy（Tensor 可以是零维，又称为一个标量或一个数），它与 Numpy 相似，二者可以共享内存，且转换之间非常方便且高效。"
   ]
  },
  {
   "cell_type": "markdown",
   "id": "0d967428",
   "metadata": {},
   "source": [
    "#### Tensor 概述"
   ]
  },
  {
   "cell_type": "code",
   "execution_count": 4,
   "id": "99ca2523",
   "metadata": {
    "ExecuteTime": {
     "end_time": "2024-05-19T12:05:30.598452Z",
     "start_time": "2024-05-19T12:05:30.586997Z"
    }
   },
   "outputs": [
    {
     "name": "stdout",
     "output_type": "stream",
     "text": [
      "tensor([4, 6])\n",
      "tensor([1, 2])\n",
      "tensor([4, 6])\n"
     ]
    }
   ],
   "source": [
    "## Mac 安装 PyTorch : 命令行输入 conda install pytorch::pytorch torchvision torchaudio -c pytorch\n",
    "            \n",
    "import torch\n",
    "\n",
    "x = torch.tensor([1,2])\n",
    "y = torch.tensor([3,4])\n",
    "z = x.add(y)\n",
    "print(z)\n",
    "print(x)\n",
    "x.add_(y)\n",
    "print(x)"
   ]
  },
  {
   "cell_type": "markdown",
   "id": "a8ada39e",
   "metadata": {},
   "source": [
    "#### 创建 Tensor"
   ]
  },
  {
   "cell_type": "code",
   "execution_count": 12,
   "id": "7ad5902d",
   "metadata": {
    "ExecuteTime": {
     "end_time": "2024-05-19T15:46:03.361208Z",
     "start_time": "2024-05-19T15:46:03.345514Z"
    }
   },
   "outputs": [
    {
     "data": {
      "text/plain": [
       "tensor([[0.0000, 1.8750, 0.0000],\n",
       "        [2.0000, 0.0000, 2.1250]])"
      ]
     },
     "execution_count": 12,
     "metadata": {},
     "output_type": "execute_result"
    }
   ],
   "source": [
    "import torch\n",
    "\n",
    "# 根据list数据生成 Tensor\n",
    "torch.Tensor([1,2,3,4,5,6])\n",
    "# 根据指定形状生成 Tensor\n",
    "torch.Tensor(2,3)\n",
    "# 根据给定的 Tensor 的形状\n",
    "t = torch.Tensor([[1,2,3],[4,5,6]])\n",
    "# 查看 Tensor 的形状\n",
    "t.size()\n",
    "# shape与size()的等价方式\n",
    "t.shape\n",
    "# 根据已有形状创建 Tensor\n",
    "torch.Tensor(t.size())"
   ]
  },
  {
   "cell_type": "code",
   "execution_count": 13,
   "id": "56a4ce0b",
   "metadata": {
    "ExecuteTime": {
     "end_time": "2024-05-19T15:48:24.632787Z",
     "start_time": "2024-05-19T15:48:24.618408Z"
    }
   },
   "outputs": [
    {
     "name": "stdout",
     "output_type": "stream",
     "text": [
      "t1的值tensor([0.]),t1的数据类型torch.FloatTensor\n",
      "t2的值1,t2的数据类型torch.LongTensor\n"
     ]
    }
   ],
   "source": [
    "import torch\n",
    "\n",
    "t1 = torch.Tensor(1)\n",
    "t2 = torch.tensor(1)\n",
    "print(\"t1的值{},t1的数据类型{}\".format(t1,t1.type()))\n",
    "print(\"t2的值{},t2的数据类型{}\".format(t2,t2.type()))"
   ]
  },
  {
   "cell_type": "code",
   "execution_count": 7,
   "id": "84f6f629",
   "metadata": {
    "ExecuteTime": {
     "end_time": "2024-05-20T11:34:39.409636Z",
     "start_time": "2024-05-20T11:34:39.383521Z"
    }
   },
   "outputs": [
    {
     "data": {
      "text/plain": [
       "tensor([[0., 0., 0.],\n",
       "        [0., 0., 0.]])"
      ]
     },
     "execution_count": 7,
     "metadata": {},
     "output_type": "execute_result"
    }
   ],
   "source": [
    "import torch\n",
    "\n",
    "# 生成一个单位矩阵 -- 以行为标准的单位矩阵\n",
    "torch.eye(4,7)\n",
    "# 自动生成全是0的矩阵\n",
    "torch.zeros(2,3)\n",
    "# 根据规则生成数据\n",
    "torch.linspace(1,10,4)\n",
    "# 生成满足均匀分布随机数\n",
    "torch.rand(2,3)\n",
    "# 生成满足标准正态分布的随机数\n",
    "torch.randn(2,3)\n",
    "# 返回所给数据形状相同，值全为0的张量\n",
    "torch.zeros_like(torch.rand(2,3))"
   ]
  },
  {
   "cell_type": "markdown",
   "id": "d6f78d45",
   "metadata": {},
   "source": [
    "### 修改 Tensor 形状"
   ]
  },
  {
   "cell_type": "code",
   "execution_count": 25,
   "id": "7ab118cf",
   "metadata": {
    "ExecuteTime": {
     "end_time": "2024-05-20T11:46:46.164728Z",
     "start_time": "2024-05-20T11:46:46.155094Z"
    }
   },
   "outputs": [
    {
     "data": {
      "text/plain": [
       "6"
      ]
     },
     "execution_count": 25,
     "metadata": {},
     "output_type": "execute_result"
    }
   ],
   "source": [
    "import torch\n",
    "\n",
    "# 生成一个形状为2x3的矩阵\n",
    "x = torch.rand(2,3)\n",
    "# 查看矩阵的形状\n",
    "x.size()\n",
    "# 查看x的维度\n",
    "x.dim()\n",
    "# 把x变为3x2的矩阵\n",
    "x.view(3,2)\n",
    "# 把x展平为1维向量\n",
    "y = x.view(-1)\n",
    "y.shape\n",
    "# 增加一个维度\n",
    "z = torch.unsqueeze(y,0)\n",
    "# 查看z的形状\n",
    "z.size()\n",
    "# 计算z的元素个数\n",
    "z.numel()\n",
    "# torch.squeeze(z)"
   ]
  },
  {
   "cell_type": "markdown",
   "id": "175d2676",
   "metadata": {},
   "source": [
    "### 索引操作"
   ]
  },
  {
   "cell_type": "code",
   "execution_count": 52,
   "id": "50cd25de",
   "metadata": {
    "ExecuteTime": {
     "end_time": "2024-05-20T12:22:11.116443Z",
     "start_time": "2024-05-20T12:22:11.090834Z"
    }
   },
   "outputs": [
    {
     "name": "stdout",
     "output_type": "stream",
     "text": [
      "tensor([[ 0.3607, -0.2859, -0.3938],\n",
      "        [ 0.2429, -1.3833, -2.3134]])\n",
      "tensor([[0, 1, 1]])\n",
      "tensor([[ 0.3607, -1.3833, -2.3134]])\n",
      "tensor([[ 0.3607, -0.2859, -0.2859]])\n",
      "tensor([[0, 1, 1],\n",
      "        [1, 1, 1]])\n",
      "torch.Size([2, 3])\n",
      "tensor([[ 0.3607, -0.2859, -0.2859],\n",
      "        [-1.3833, -1.3833, -1.3833]])\n"
     ]
    },
    {
     "data": {
      "text/plain": [
       "tensor([[ 0.3607, -0.2859,  0.0000],\n",
       "        [ 0.0000, -1.3833,  0.0000]])"
      ]
     },
     "execution_count": 52,
     "metadata": {},
     "output_type": "execute_result"
    }
   ],
   "source": [
    "import torch\n",
    "\n",
    "# 设置一个随机数种子\n",
    "torch.manual_seed(100)\n",
    "# 生成一个形状为2x3的矩阵\n",
    "x = torch.randn(2,3)\n",
    "# 根据索引获取第一行的所有数据\n",
    "x[0,:]\n",
    "# 获取最后一列数据\n",
    "x[:,-1]\n",
    "# 生成是否大于0的Byter张量\n",
    "mask = x > 0\n",
    "# 获取大于0的值\n",
    "print(x)\n",
    "torch.masked_select(x,mask)\n",
    "# 获取非0下标，即行，列索引\n",
    "torch.nonzero(mask)\n",
    "# 获取指定索引对应的值，输出根据以下规则得到 -- 即根据i，j位置对应的input的值来初始化新Tensor\n",
    "# out[i][j] = input[index[i][j]][j] # if dim == 0 # 这里的i就是index[i][j] ， j固定\n",
    "# out[i][j] = input[i][index[i][j]] # id dim == 1 # 这里的j就是index[i][j] ， i固定\n",
    "index = torch.LongTensor([[0,1,1]])\n",
    "print(index)\n",
    "print(torch.gather(x,0,index))\n",
    "print(torch.gather(x,1,index))\n",
    "index = torch.LongTensor([[0,1,1],[1,1,1]])\n",
    "print(index)\n",
    "print(index.size())\n",
    "a = torch.gather(x,1,index)\n",
    "print(a)\n",
    "# 把a的值返回到一个2x3的0矩阵中 -- 对应维度的i，j位置的值\n",
    "z = torch.zeros(2,3)\n",
    "z.scatter_(1,index,a)"
   ]
  },
  {
   "cell_type": "markdown",
   "id": "e1c29511",
   "metadata": {},
   "source": [
    "### 广播机制"
   ]
  },
  {
   "cell_type": "code",
   "execution_count": 66,
   "id": "2a53cc40",
   "metadata": {
    "ExecuteTime": {
     "end_time": "2024-05-20T12:34:47.604379Z",
     "start_time": "2024-05-20T12:34:47.579601Z"
    }
   },
   "outputs": [
    {
     "name": "stdout",
     "output_type": "stream",
     "text": [
      "torch.Size([4, 3])\n",
      "tensor([[ 0,  1,  2],\n",
      "        [10, 11, 12],\n",
      "        [20, 21, 22],\n",
      "        [30, 31, 32]])\n",
      "tensor([[ 0,  1,  2],\n",
      "        [10, 11, 12],\n",
      "        [20, 21, 22],\n",
      "        [30, 31, 32]])\n"
     ]
    }
   ],
   "source": [
    "import torch\n",
    "import numpy as np\n",
    "\n",
    "A = np.arange(0,40,10).reshape(4,1)\n",
    "B = np.arange(0,3)\n",
    "# 把ndarry转换为Tensor\n",
    "A1 = torch.from_numpy(A)\n",
    "B1 = torch.from_numpy(B)\n",
    "# Tensor自动实现广播\n",
    "C = A1 + B1\n",
    "print(C.size())\n",
    "print(C)\n",
    "# 我们可以根据广播机制，手工进行配置\n",
    "# 根据规则1，B1需要向A1看齐，把B1变为 (1,3) -- B1本来是 (3,)\n",
    "B2 = B1.unsqueeze(0) # B2 的形状为 (1,3)\n",
    "# 使用expand函数重复数组，分别的4x3的矩阵\n",
    "A2 = A1.expand(4,3)\n",
    "B3 = B2.expand(4,3)\n",
    "C = A2 + B3\n",
    "print(C)"
   ]
  },
  {
   "cell_type": "markdown",
   "id": "2f6e1bad",
   "metadata": {},
   "source": [
    "### 逐元素操作"
   ]
  },
  {
   "cell_type": "code",
   "execution_count": 77,
   "id": "e0e4e718",
   "metadata": {
    "ExecuteTime": {
     "end_time": "2024-05-20T12:45:47.054303Z",
     "start_time": "2024-05-20T12:45:47.045604Z"
    }
   },
   "outputs": [
    {
     "name": "stdout",
     "output_type": "stream",
     "text": [
      "tensor([[-0.5533, -2.0483,  1.1918]])\n",
      "tensor([[ 1.4467, -0.0483,  3.1918]])\n"
     ]
    }
   ],
   "source": [
    "import torch\n",
    "\n",
    "t = torch.randn(1,3)\n",
    "t1 = torch.randn(3,1)\n",
    "t2 = torch.randn(1,3)\n",
    "# t + 0.1*(t1/t2)\n",
    "torch.addcdiv(t,0.1,t1,t2) # 广播机制 -- 计算完变为3x3\n",
    "# 计算sigmoid\n",
    "torch.sigmoid(t)\n",
    "# 将t限制在[0,1]之间\n",
    "torch.clamp(t,0,1)\n",
    "# t+2就地运算\n",
    "print(t)\n",
    "t.add_(2)\n",
    "print(t)"
   ]
  },
  {
   "cell_type": "markdown",
   "id": "765e46ee",
   "metadata": {},
   "source": [
    "### 归并操作"
   ]
  },
  {
   "cell_type": "code",
   "execution_count": 94,
   "id": "8ec6893a",
   "metadata": {
    "ExecuteTime": {
     "end_time": "2024-05-20T13:08:04.027037Z",
     "start_time": "2024-05-20T13:08:04.008582Z"
    }
   },
   "outputs": [
    {
     "name": "stdout",
     "output_type": "stream",
     "text": [
      "tensor([[ 0.,  2.,  4.],\n",
      "        [ 6.,  8., 10.]])\n",
      "tensor([ 6., 10., 14.])\n",
      "tensor([ 6., 24.])\n",
      "tensor([[ 6., 10., 14.]])\n",
      "tensor([[ 6.],\n",
      "        [24.]])\n"
     ]
    }
   ],
   "source": [
    "import torch\n",
    "\n",
    "# 生成一个6个数的向量\n",
    "a = torch.linspace(0,10,6)\n",
    "# 使用view把a变成2x3矩阵\n",
    "a = a.view(2,3)\n",
    "print(a)\n",
    "# 沿y方向累加，即dim=0\n",
    "b = a.sum(dim=0) # 输出1行 -- 列相加\n",
    "c = a.sum(dim=1) # 输出1列 -- 行相加\n",
    "print(b)\n",
    "print(c)\n",
    "b.size()\n",
    "# 沿y方向累加哦，即dim=0，并保留含1的维度\n",
    "b = a.sum(dim=0,keepdim=True) # 1x3\n",
    "c = a.sum(dim=1,keepdim=True) # 2x1 \n",
    "print(b)\n",
    "print(c)"
   ]
  },
  {
   "cell_type": "markdown",
   "id": "4e7b3ef2",
   "metadata": {},
   "source": [
    "### 比较操作"
   ]
  },
  {
   "cell_type": "code",
   "execution_count": 8,
   "id": "6a9d87ea",
   "metadata": {
    "ExecuteTime": {
     "end_time": "2024-05-21T14:58:04.794086Z",
     "start_time": "2024-05-21T14:58:04.777917Z"
    }
   },
   "outputs": [
    {
     "data": {
      "text/plain": [
       "torch.return_types.topk(\n",
       "values=tensor([[ 6.,  8., 10.]]),\n",
       "indices=tensor([[1, 1, 1]]))"
      ]
     },
     "execution_count": 8,
     "metadata": {},
     "output_type": "execute_result"
    }
   ],
   "source": [
    "import torch\n",
    "\n",
    "x = torch.linspace(0,10,6).view(2,3)\n",
    "# 计算所有元素的最大值\n",
    "torch.max(x)\n",
    "# 计算y轴方向的最大值\n",
    "torch.max(x,dim=0)\n",
    "# 求最大的2个元素\n",
    "torch.topk(x,1,dim=0)"
   ]
  },
  {
   "cell_type": "markdown",
   "id": "f68454a2",
   "metadata": {},
   "source": [
    "### 矩阵操作"
   ]
  },
  {
   "cell_type": "code",
   "execution_count": 17,
   "id": "19cdf17d",
   "metadata": {
    "ExecuteTime": {
     "end_time": "2024-05-21T15:11:53.295806Z",
     "start_time": "2024-05-21T15:11:53.280083Z"
    }
   },
   "outputs": [
    {
     "name": "stdout",
     "output_type": "stream",
     "text": [
      "tensor([[[5, 5, 3],\n",
      "         [6, 8, 4]],\n",
      "\n",
      "        [[2, 7, 6],\n",
      "         [1, 1, 5]]])\n",
      "tensor([[[1, 5, 3, 5],\n",
      "         [3, 4, 1, 1],\n",
      "         [2, 1, 1, 3]],\n",
      "\n",
      "        [[0, 5, 5, 1],\n",
      "         [2, 3, 3, 1],\n",
      "         [2, 5, 5, 0]]])\n"
     ]
    },
    {
     "data": {
      "text/plain": [
       "tensor([[[26, 48, 23, 39],\n",
       "         [38, 66, 30, 50]],\n",
       "\n",
       "        [[26, 61, 61,  9],\n",
       "         [12, 33, 33,  2]]])"
      ]
     },
     "execution_count": 17,
     "metadata": {},
     "output_type": "execute_result"
    }
   ],
   "source": [
    "import torch\n",
    "\n",
    "a = torch.tensor([2,3])\n",
    "b = torch.tensor([3,4])\n",
    "\n",
    "torch.dot(a,b)\n",
    "x = torch.randint(10,(2,3))\n",
    "y = torch.randint(6,(3,4))\n",
    "torch.mm(x,y)\n",
    "\n",
    "x = torch.randint(10,(2,2,3))\n",
    "y = torch.randint(6,(2,3,4))\n",
    "print(x)\n",
    "print(y)\n",
    "torch.bmm(x,y)"
   ]
  },
  {
   "cell_type": "markdown",
   "id": "e2266d17",
   "metadata": {},
   "source": [
    "## Tensor 与 Autograd"
   ]
  },
  {
   "cell_type": "markdown",
   "id": "95ac68d4",
   "metadata": {},
   "source": [
    "### 标签反向传播"
   ]
  },
  {
   "cell_type": "code",
   "execution_count": 11,
   "id": "c2cd6dd2",
   "metadata": {
    "ExecuteTime": {
     "end_time": "2024-05-22T14:43:17.516053Z",
     "start_time": "2024-05-22T14:43:17.496924Z"
    }
   },
   "outputs": [
    {
     "name": "stdout",
     "output_type": "stream",
     "text": [
      "x=tensor([2.]),w=tensor([0.7612], requires_grad=True),b=tensor([0.0354], requires_grad=True)\n",
      "x,w,b的requires_grad属性分别为：False,True,True\n",
      "y,z的requires_grad属性分别为：True,True\n",
      "x,w,b,y,z是否为叶子结点：True,True,True,False,False\n",
      "x,w,b的grad_fn属性分别为：None,None,None\n",
      "y，z的grad_fn属性分别为：<MulBackward0 object at 0x285a2ceb0>,<AddBackward0 object at 0x285bbe1a0>\n",
      "参数w，b，x的梯度分别是：tensor([2.]),tensor([1.]),None\n",
      "非叶子结点y，z的梯度分别是：None,None\n"
     ]
    }
   ],
   "source": [
    "import torch\n",
    "\n",
    "# 定义输入张量x\n",
    "x = torch.Tensor([2])\n",
    "# 初始化权重W，偏移量b、并设置require_grad属性为True，为自动求导\n",
    "w = torch.randn(1,requires_grad=True)\n",
    "b = torch.randn(1,requires_grad=True)\n",
    "\n",
    "print(\"x={},w={},b={}\".format(x,w,b))\n",
    "# x,w,b都是标量\n",
    "\n",
    "# 实现前向传播\n",
    "y = torch.mul(w,x)\n",
    "z = torch.add(y,b)\n",
    "# 查看x，w，b叶子结点的requires_grad属性\n",
    "print(\"x,w,b的requires_grad属性分别为：{},{},{}\".format(x.requires_grad,w.requires_grad,b.requires_grad))\n",
    "\n",
    "# 查看非叶子节点的require_grad属性\n",
    "print(\"y,z的requires_grad属性分别为：{},{}\".format(y.requires_grad,z.requires_grad))\n",
    "# 因为w，b有依赖关系，故y，z的requires_grad属性也是：True，True\n",
    "\n",
    "# 查看各节点是否为叶子结点 -- 看grad_fn是否为None ，为None即叶子结点\n",
    "print(\"x,w,b,y,z是否为叶子结点：{},{},{},{},{}\".format(x.is_leaf,w.is_leaf,b.is_leaf,y.is_leaf,z.is_leaf))\n",
    "\n",
    "# 查看叶子结点的grad_fn属性\n",
    "print(\"x,w,b的grad_fn属性分别为：{},{},{}\".format(x.grad_fn,w.grad_fn,b.grad_fn))\n",
    "# 查看非叶子结点的grad_fn属性\n",
    "print(\"y，z的grad_fn属性分别为：{},{}\".format(y.grad_fn,z.grad_fn))\n",
    "\n",
    "# 基于z张量进行梯度反向传播，执行backward之后计算图会自动清空\n",
    "z.backward()\n",
    "# 如果需要多次使用backward，需要修改参数rerain_graph为True，此时梯度是累加的\n",
    "# z.backward(retain_graph=True)\n",
    "\n",
    "# 查看叶子结点的梯度，x是叶子结点但它无需求导，故其梯度为None\n",
    "print(\"参数w，b，x的梯度分别是：{},{},{}\".format(w.grad,b.grad,x.grad))\n",
    "\n",
    "# 防止报警告，给y，z非叶子结点保留梯度\n",
    "y.retain_grad()\n",
    "z.retain_grad()\n",
    "\n",
    "# 非叶子结点的梯度，执行backward之后，会自动清空\n",
    "print(\"非叶子结点y，z的梯度分别是：{},{}\".format(y.grad,z.grad))"
   ]
  },
  {
   "cell_type": "code",
   "execution_count": 16,
   "id": "dfc4651f",
   "metadata": {
    "ExecuteTime": {
     "end_time": "2024-05-22T14:54:28.326253Z",
     "start_time": "2024-05-22T14:54:28.300446Z"
    }
   },
   "outputs": [
    {
     "name": "stdout",
     "output_type": "stream",
     "text": [
      "tensor([[4., 3.],\n",
      "        [2., 6.]])\n",
      "tensor([[4., 2.],\n",
      "        [3., 6.]])\n"
     ]
    }
   ],
   "source": [
    "import torch\n",
    "\n",
    "# 定义叶子结点张量x，形状为1x2\n",
    "x = torch.tensor([[2,3]],dtype=torch.float,requires_grad=True)\n",
    "# 初始化Jacobian矩阵\n",
    "J = torch.zeros(2,2)\n",
    "# 初始化目标张量，形状1x2\n",
    "y = torch.zeros(1,2)\n",
    "# 定义y与x之间的映射关系\n",
    "# y1 = x1**2+3*x2，y2 = x2**2+2*x1\n",
    "y[0,0] = x[0,0] ** 2 + 3 * x[0,1]\n",
    "y[0,1] = x[0,1] ** 2 + 2 * x[0,0]\n",
    "# y.backward(torch.Tensor([[1,1]]))\n",
    "# print(x.grad) # 结果不符合\n",
    "\n",
    "# 生成y1对x的梯度\n",
    "# 也可以：y[0,0].backward(retain_graph=True)\n",
    "y.backward(torch.Tensor([[1,0]]),retain_graph=True)\n",
    "J[0] = x.grad\n",
    "# 梯度是累加的，故需要对x的梯度清零\n",
    "x.grad = torch.zeros_like(x.grad)\n",
    "# 生成y2对x的梯度\n",
    "# 也可以：y[0,1].backward(retain_graph=True)\n",
    "y.backward(torch.Tensor([[0,1]]))\n",
    "J[1] = x.grad\n",
    "# 显示Jacobian矩阵的值\n",
    "print(J)\n",
    "# Jacobian的转置\n",
    "print(J.T)"
   ]
  },
  {
   "cell_type": "markdown",
   "id": "c237ee56",
   "metadata": {},
   "source": [
    "## 使用 Numpy 实现机器学习"
   ]
  },
  {
   "cell_type": "code",
   "execution_count": 65,
   "id": "09f512ac",
   "metadata": {
    "ExecuteTime": {
     "end_time": "2024-05-24T13:04:01.901181Z",
     "start_time": "2024-05-24T13:04:01.821753Z"
    }
   },
   "outputs": [
    {
     "data": {
      "image/png": "[encoded data removed]",
      "text/plain": [
       "<Figure size 640x480 with 1 Axes>"
      ]
     },
     "metadata": {},
     "output_type": "display_data"
    }
   ],
   "source": [
    "# -*- coding: utf-8 -*-\n",
    "import numpy as np\n",
    "%matplotlib inline\n",
    "from matplotlib import pyplot as plt\n",
    "\n",
    "np.random.seed(100)\n",
    "x = np.linspace(-1,1,100).reshape(100,1)\n",
    "# 加入噪音数据的原因是现实数据往往是不完全精确的，通常包含一些噪音\n",
    "y = 3*np.power(x,2) + 2 + 0.2*np.random.rand(x.size).reshape(100,1)\n",
    "\n",
    "# 画图\n",
    "plt.scatter(x,y)\n",
    "plt.show()"
   ]
  },
  {
   "cell_type": "code",
   "execution_count": 66,
   "id": "b0d1daf3",
   "metadata": {
    "ExecuteTime": {
     "end_time": "2024-05-24T13:04:03.331906Z",
     "start_time": "2024-05-24T13:04:03.221006Z"
    }
   },
   "outputs": [
    {
     "data": {
      "image/png": "[encoded data removed]",
      "text/plain": [
       "<Figure size 640x480 with 1 Axes>"
      ]
     },
     "metadata": {},
     "output_type": "display_data"
    },
    {
     "name": "stdout",
     "output_type": "stream",
     "text": [
      "[[2.98927619]] [[2.09818307]]\n"
     ]
    }
   ],
   "source": [
    "# 随机初始化权重参数\n",
    "w1 = np.random.rand(1,1)\n",
    "b1 = np.random.rand(1,1)\n",
    "\n",
    "# 训练模型\n",
    "lr = 0.001 # 学习率\n",
    "\n",
    "for i in range(800):\n",
    "    # 前向传播\n",
    "    y_pred = np.power(x,2)*w1 + b1\n",
    "    # 定义损失函数\n",
    "    loss = 0.5 * (y_pred -y) ** 2\n",
    "    loss = loss.sum()\n",
    "    # 计算梯度\n",
    "    grad_w = np.sum((y_pred - y) * np.power(x,2))\n",
    "    grad_b = np.sum((y_pred -y))\n",
    "    # 使用梯度下降法，使得loss最小\n",
    "    w1 -= lr * grad_w\n",
    "    b1 -= lr * grad_b\n",
    "    \n",
    "# 可视化结果\n",
    "\n",
    "plt.plot(x,y_pred,'r-',label='pridict')\n",
    "plt.scatter(x,y,color='blue',marker='o',label='true') # true data\n",
    "plt.xlim(-1,1)\n",
    "plt.ylim(2,6)\n",
    "plt.legend()\n",
    "plt.show()\n",
    "print(w1,b1)"
   ]
  },
  {
   "cell_type": "markdown",
   "id": "ab88dffd",
   "metadata": {},
   "source": [
    "## 使用 Tensor 及 Autograd 实现机器学习"
   ]
  },
  {
   "cell_type": "code",
   "execution_count": 67,
   "id": "e2459ca4",
   "metadata": {
    "ExecuteTime": {
     "end_time": "2024-05-24T13:04:13.565472Z",
     "start_time": "2024-05-24T13:04:13.485535Z"
    }
   },
   "outputs": [
    {
     "data": {
      "image/png": "[encoded data removed]",
      "text/plain": [
       "<Figure size 640x480 with 1 Axes>"
      ]
     },
     "metadata": {},
     "output_type": "display_data"
    }
   ],
   "source": [
    "import torch as t\n",
    "%matplotlib inline\n",
    "from matplotlib import pyplot as plt\n",
    "\n",
    "t.manual_seed(100)\n",
    "dtype = t.float\n",
    "# 生成x坐标数据，x为tensor，需要把x的形状转化为100x1\n",
    "x = t.unsqueeze(t.linspace(-1,1,100),dim=1)\n",
    "# 生成y坐标数据，y为tensor，形状为100x1，另外加上一些噪声\n",
    "y = 3*x.pow(2) + 2 + 0.2*t.rand(x.size())\n",
    "# 画图，把tensor数据转换为numpy数据\n",
    "plt.scatter(x.numpy(),y.numpy())\n",
    "plt.show()"
   ]
  },
  {
   "cell_type": "code",
   "execution_count": 79,
   "id": "bede5f55",
   "metadata": {
    "ExecuteTime": {
     "end_time": "2024-05-24T13:44:43.087462Z",
     "start_time": "2024-05-24T13:44:42.938720Z"
    }
   },
   "outputs": [
    {
     "data": {
      "image/png": "[encoded data removed]",
      "text/plain": [
       "<Figure size 640x480 with 1 Axes>"
      ]
     },
     "metadata": {},
     "output_type": "display_data"
    },
    {
     "name": "stdout",
     "output_type": "stream",
     "text": [
      "tensor([[2.9640]], requires_grad=True) tensor([[2.1148]], requires_grad=True)\n"
     ]
    }
   ],
   "source": [
    "# 随机初始化参数，参数w，b为需要学习的，故需requires_grad=True\n",
    "w = t.randn(1,1,dtype=dtype,requires_grad=True) # 标准正态值\n",
    "b = t.zeros(1,1,dtype=dtype,requires_grad=True) # 0\n",
    "\n",
    "# 训练模型\n",
    "lr = 0.001 # 学习率\n",
    "\n",
    "for ii in range(800):\n",
    "    # 前向传播，并定义损失函数loss\n",
    "    # 也可以y_pred = x.pow(2)*w + b ，因为w是2维，且是1x1\n",
    "    y_pred = x.pow(2).mm(w) + b \n",
    "    loss = 0.5 * (y_pred - y) ** 2\n",
    "    loss = loss.sum()\n",
    "    \n",
    "    # 自动计算梯度，梯度存放在grad属性中\n",
    "    loss.backward()\n",
    "    \n",
    "    # 手动更新参数，需要用torch.no_grad()，使上下文环境中切断自动求导的计算\n",
    "    with t.no_grad():\n",
    "        w -= lr * w.grad\n",
    "        b -= lr * b.grad\n",
    "        \n",
    "    # 梯度清零\n",
    "        w.grad.zero_()\n",
    "        b.grad.zero_()\n",
    "\n",
    "# 可视化训练结果\n",
    "plt.plot(x.numpy(),y_pred.detach().numpy(),'r-',label='predict') # 预测值\n",
    "plt.scatter(x.numpy(),y.numpy(),color='blue',marker='o',label='true') # 真实值\n",
    "plt.xlim(-1,1)\n",
    "plt.ylim(2,6)\n",
    "plt.legend()\n",
    "plt.show()\n",
    "print(w,b)"
   ]
  },
  {
   "cell_type": "markdown",
   "id": "ae168a22",
   "metadata": {},
   "source": [
    "## 使用 TensorFlow 架构"
   ]
  },
  {
   "cell_type": "code",
   "execution_count": 20,
   "id": "18485a8e",
   "metadata": {
    "ExecuteTime": {
     "end_time": "2024-05-25T03:45:47.788742Z",
     "start_time": "2024-05-25T03:45:45.324663Z"
    }
   },
   "outputs": [
    {
     "name": "stdout",
     "output_type": "stream",
     "text": [
      "损失值、权重、偏移量分别为9.6606, [0.36025825], [0.0600155]\n",
      "损失值、权重、偏移量分别为0.1365, [1.7935852], [2.509529]\n",
      "损失值、权重、偏移量分别为0.0718, [2.1365519], [2.4137845]\n",
      "损失值、权重、偏移量分别为0.0388, [2.3761702], [2.3253355]\n",
      "损失值、权重、偏移量分别为0.0217, [2.548563], [2.2614677]\n",
      "损失值、权重、偏移量分别为0.0129, [2.672646], [2.2154949]\n",
      "损失值、权重、偏移量分别为0.0083, [2.761956], [2.182406]\n",
      "损失值、权重、偏移量分别为0.0059, [2.8262372], [2.158589]\n",
      "损失值、权重、偏移量分别为0.0047, [2.8725057], [2.141447]\n",
      "损失值、权重、偏移量分别为0.0040, [2.905806], [2.1291082]\n"
     ]
    },
    {
     "data": {
      "image/png": "[encoded data removed]",
      "text/plain": [
       "<Figure size 640x480 with 1 Axes>"
      ]
     },
     "metadata": {},
     "output_type": "display_data"
    }
   ],
   "source": [
    "## TensorFlow 版本1.0x\n",
    "# # -*- coding: tutf-8 -*-\n",
    "# import tensorflow as tf\n",
    "# import numpy as np\n",
    "# # 生成训练数据\n",
    "# np.random.seed(100)\n",
    "# x = np.linspace(-1,1,100).reshape(100,1)\n",
    "# y = 3*np.power(x,2) + 2 + 0.2*np.random.rand(x.size).reshape(100,1)\n",
    "\n",
    "# # 创建两个占位符，分别用来存放输入数据x和目标值y\n",
    "# # 运行计算图时，导入数据\n",
    "# # x1 = tf.placeholder(tf.float32,shape=(None,1))\n",
    "# # y1 = tf.placeholder(tf.float32,shape=(None,1))\n",
    "\n",
    "# # TensorFlow 2.x 不使用 placeholder，而是直接定义变量  \n",
    "# x1 = tf.keras.Input(shape=(None,1))  \n",
    "# y1 = tf.keras.Input(shape=(None,1)) \n",
    "# # 创建权重变量w和b，并用随机值初始化\n",
    "# # TensorFlow 的变量在整个计算图保存其值\n",
    "# w = tf.Variable(tf.random.uniform([1],0,1.0))\n",
    "# b = tf.Variable(tf.zeros([1]))\n",
    "# # 前向传播，计算预测值\n",
    "# y_pred = np.power(x,2)*w+b\n",
    "\n",
    "# # 计算损失值\n",
    "# loss = tf.reduce_mean(tf.square(y-y_pred))\n",
    "\n",
    "# # 计算有关参数w，b关于损失函数的梯度\n",
    "# grad_w,grad_b = tf.gradients(loss,[w,b])\n",
    "\n",
    "# # 用梯度下降法更新参数\n",
    "# # 执行计算图时给new_w1，new_w2赋值\n",
    "# # 对TensorFlow 来说，更新参数是计算图的一部分内容\n",
    "# # 而PyTorch，这部分属于计算图之外\n",
    "# learning_rate = 0.01\n",
    "# new_w = w.assign(w-learning_rate*grad_w)\n",
    "# new_b = b.assign(b-learning_rate*grad_b)\n",
    "\n",
    "# # 训练模型\n",
    "# # 已构建计算图，接下来创建TensorFlow session，准备执行计算图\n",
    "# with tf.Session() as sess:\n",
    "#     # 执行之前需要初始化变量w，b\n",
    "#     sess.run(tf.global_Variables_initializer())\n",
    "    \n",
    "#     for step in range(2000):\n",
    "#         # 循环执行计算图，每次需要把x1、y1赋值给x和y\n",
    "#         # 每次执行计算图时，需要计算关于new_w，new_b的损失值\n",
    "#         # 返回numpy多维数组\n",
    "#         loss_value ,v_w,v_b = sess.run([loss,new_w,new_b],\n",
    "#                                       feed_dict = {x1:x,y1:y})\n",
    "#         if stap%200 ==0: # 每200次打印一次训练结果\n",
    "#             print(\"损失值、权重、偏移量分别为{:.4f},{},{}\".format(loss_value,v_w,v_b))\n",
    "            \n",
    "# # 可视化结果\n",
    "# plt.figure()\n",
    "# plt.scatter(x,y)\n",
    "# plt.plot(x,v_b+v_w*x**2)\n",
    "\n",
    "\n",
    "# TensorFlow 版本2.0x\n",
    "# -*- coding: utf-8 -*-\n",
    "import tensorflow as tf\n",
    "import numpy as np\n",
    "import matplotlib.pyplot as plt\n",
    "\n",
    "# 生成训练数据\n",
    "np.random.seed(100)\n",
    "x = np.linspace(-1, 1, 100).reshape(100, 1)\n",
    "y = 3 * np.power(x, 2) + 2 + 0.2 * np.random.rand(x.size).reshape(100, 1)\n",
    "\n",
    "# 创建权重变量w和b，并用随机值初始化\n",
    "w = tf.Variable(tf.random.uniform([1], 0, 1.0))\n",
    "b = tf.Variable(tf.zeros([1]))\n",
    "\n",
    "# 定义前向传播函数\n",
    "def forward(x):\n",
    "    return np.power(x, 2) * w + b\n",
    "\n",
    "# 定义损失函数\n",
    "def compute_loss(y_true, y_pred):\n",
    "    return tf.reduce_mean(tf.square(y_true - y_pred))\n",
    "\n",
    "# 定义优化器\n",
    "optimizer = tf.optimizers.SGD(learning_rate=0.01)\n",
    "\n",
    "# 训练模型\n",
    "for step in range(2000):\n",
    "    with tf.GradientTape() as tape:\n",
    "        y_pred = forward(x)\n",
    "        loss = compute_loss(y, y_pred)\n",
    "    \n",
    "    # 计算梯度\n",
    "    gradients = tape.gradient(loss, [w, b])\n",
    "    \n",
    "    # 更新参数\n",
    "    optimizer.apply_gradients(zip(gradients, [w, b]))\n",
    "    \n",
    "    if step % 200 == 0:  # 每200次打印一次训练结果\n",
    "        print(\"损失值、权重、偏移量分别为{:.4f}, {}, {}\".format(loss.numpy(), w.numpy(), b.numpy()))\n",
    "\n",
    "# 可视化结果\n",
    "plt.figure()\n",
    "plt.scatter(x, y)\n",
    "plt.plot(x, forward(x), color='red')\n",
    "plt.show()"
   ]
  },
  {
   "cell_type": "code",
   "execution_count": null,
   "id": "c07f61af",
   "metadata": {},
   "outputs": [],
   "source": []
  },
  {
   "cell_type": "code",
   "execution_count": null,
   "id": "14c124aa",
   "metadata": {},
   "outputs": [],
   "source": []
  }
 ],
 "metadata": {
  "kernelspec": {
   "display_name": "Python 3 (ipykernel)",
   "language": "python",
   "name": "python3"
  },
  "language_info": {
   "codemirror_mode": {
    "name": "ipython",
    "version": 3
   },
   "file_extension": ".py",
   "mimetype": "text/x-python",
   "name": "python",
   "nbconvert_exporter": "python",
   "pygments_lexer": "ipython3",
   "version": "3.11.4"
  },
  "toc": {
   "base_numbering": 1,
   "nav_menu": {
    "height": "254px",
    "width": "456px"
   },
   "number_sections": true,
   "sideBar": true,
   "skip_h1_title": false,
   "title_cell": "Table of Contents",
   "title_sidebar": "Contents",
   "toc_cell": false,
   "toc_position": {},
   "toc_section_display": true,
   "toc_window_display": false
  }
 },
 "nbformat": 4,
 "nbformat_minor": 5
}
